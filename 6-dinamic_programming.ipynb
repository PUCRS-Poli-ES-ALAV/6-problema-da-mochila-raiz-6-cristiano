{
  "cells": [
    {
      "cell_type": "code",
      "source": [
        "import numpy as np"
      ],
      "metadata": {
        "id": "5TxTo__B2kh_"
      },
      "execution_count": 1,
      "outputs": []
    },
    {
      "cell_type": "code",
      "execution_count": 2,
      "source": [
        "def fibo_rec(n):\n",
        "      '''\n",
        "      FIBO-REC (n)\n",
        "      se n ≤ 1\n",
        "      então devolva n\n",
        "      senão a ← FIBO-REC (n − 1)\n",
        "            b ← FIBO-REC (n − 2)\n",
        "            devolva a + b\n",
        "      '''\n",
        "      if n == 0:\n",
        "            return 1\n",
        "\n",
        "      if n<=1:\n",
        "            return n\n",
        "      else:\n",
        "            a = fibo_rec(n - 1)\n",
        "            b = fibo_rec(n - 2)\n",
        "            return a + b"
      ],
      "outputs": [],
      "metadata": {
        "id": "ZFzwXoOpze23"
      }
    },
    {
      "cell_type": "code",
      "execution_count": 3,
      "source": [
        "for i in [4, 8, 16, 32]:\n",
        "    result = fibo_rec(i)\n",
        "    print(f'fibo rec for {i}: {result}')"
      ],
      "outputs": [
        {
          "output_type": "stream",
          "name": "stdout",
          "text": [
            "fibo rec for 4: 5\n",
            "fibo rec for 8: 34\n",
            "fibo rec for 16: 1597\n",
            "fibo rec for 32: 3524578\n"
          ]
        }
      ],
      "metadata": {
        "colab": {
          "base_uri": "https://localhost:8080/"
        },
        "id": "uuJSBuc8ze2-",
        "outputId": "a3c656bc-b6a1-4f0c-bfd9-6abd515f04a6"
      }
    },
    {
      "cell_type": "code",
      "execution_count": 4,
      "source": [
        "def fibo(n):\n",
        "    '''\n",
        "    FIBO (n)\n",
        "            f [0] ← 0 \n",
        "        f [1] ← 1\n",
        "        para i ← 2 até n faça\n",
        "                f[i] ← f[i-1]+f[i-2]\n",
        "        devolva f [n]\n",
        "    '''\n",
        "    results = list()\n",
        "    results.append(0)\n",
        "    results.append(1)\n",
        "    for i in range(2, n+2, 1):\n",
        "        results.append(results[i-1] + results[i-2])\n",
        "\n",
        "    return results[-1]"
      ],
      "outputs": [],
      "metadata": {
        "id": "7ZPM1Pevze3A"
      }
    },
    {
      "cell_type": "code",
      "execution_count": 5,
      "source": [
        "for i in [4, 8, 16, 32]:\n",
        "    result = fibo(i)\n",
        "    print(f'fibo for {i}: {result}')"
      ],
      "outputs": [
        {
          "output_type": "stream",
          "name": "stdout",
          "text": [
            "fibo for 4: 5\n",
            "fibo for 8: 34\n",
            "fibo for 16: 1597\n",
            "fibo for 32: 3524578\n"
          ]
        }
      ],
      "metadata": {
        "colab": {
          "base_uri": "https://localhost:8080/"
        },
        "id": "jMaICRd3ze3B",
        "outputId": "dc095570-e7c1-4916-c468-9aff091e1090"
      }
    },
    {
      "cell_type": "code",
      "source": [
        "def memoized_fibo(f, n):\n",
        "  '''\n",
        "  MEMOIZED-FIBO (f, n)\n",
        "  para i ← 0 até n faça\n",
        "        f [i] ← −1\n",
        "  devolva LOOKUP-FIBO (f, n)\n",
        "\n",
        "  LOOKUP-FIBO (f, n)\n",
        "  se f [n] ≥ 0\n",
        "      então devolva f [n]\n",
        "  se n ≤ 1\n",
        "  então f [n] ← n\n",
        "  senão f [n] ← LOOKUP-FIBO(f, n − 1) + LOOKUP-FIBO(f, n − 2)\n",
        "  devolva f [n]\n",
        "  '''\n",
        "  for i in range(n):\n",
        "    f[i] = -1\n",
        "  \n",
        "  f[0] = 0\n",
        "  f[1] = 1\n",
        "\n",
        "  return lookup_fibo(f, n-1)\n",
        "\n",
        "def lookup_fibo(f, n):\n",
        "  if f[n] >= 0:\n",
        "    return f[n]\n",
        "\n",
        "  if n <= 1:\n",
        "    f[n] = n\n",
        "  else:\n",
        "    f[n] = lookup_fibo(f, n-1) + lookup_fibo(f, n-2)\n",
        "  \n",
        "  return f[n]\n",
        "\n"
      ],
      "metadata": {
        "id": "_1Ozsxv7z2JF"
      },
      "execution_count": 43,
      "outputs": []
    },
    {
      "cell_type": "code",
      "source": [
        "for i in [4, 8, 16, 32]:\n",
        "    result = memoized_fibo(list(np.zeros(i+1)), i+1)\n",
        "    print(f'memoized fibo for {i}: {result} lst:')"
      ],
      "metadata": {
        "colab": {
          "base_uri": "https://localhost:8080/"
        },
        "id": "FQTSvPoH1qvH",
        "outputId": "9e364529-c1f0-48a2-f364-3640d0d47347"
      },
      "execution_count": 44,
      "outputs": [
        {
          "output_type": "stream",
          "name": "stdout",
          "text": [
            "memoized fibo for 4: 3 lst:\n",
            "memoized fibo for 8: 21 lst:\n",
            "memoized fibo for 16: 987 lst:\n",
            "memoized fibo for 32: 2178309 lst:\n"
          ]
        }
      ]
    },
    {
      "cell_type": "code",
      "source": [
        ""
      ],
      "metadata": {
        "id": "fQOw2zdi1rOD"
      },
      "execution_count": 21,
      "outputs": []
    },
    {
      "cell_type": "code",
      "execution_count": null,
      "source": [
        ""
      ],
      "outputs": [],
      "metadata": {
        "id": "hVN1SIJwze3C"
      }
    }
  ],
  "metadata": {
    "orig_nbformat": 4,
    "language_info": {
      "name": "python",
      "version": "3.8.11",
      "mimetype": "text/x-python",
      "codemirror_mode": {
        "name": "ipython",
        "version": 3
      },
      "pygments_lexer": "ipython3",
      "nbconvert_exporter": "python",
      "file_extension": ".py"
    },
    "kernelspec": {
      "name": "python3",
      "display_name": "Python 3.8.11 64-bit"
    },
    "interpreter": {
      "hash": "b3ba2566441a7c06988d0923437866b63cedc61552a5af99d1f4fb67d367b25f"
    },
    "colab": {
      "name": "6-dinamic_programming.ipynb",
      "provenance": [],
      "collapsed_sections": []
    }
  },
  "nbformat": 4,
  "nbformat_minor": 0
}
