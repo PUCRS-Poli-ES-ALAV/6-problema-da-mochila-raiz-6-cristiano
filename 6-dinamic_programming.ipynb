{
 "cells": [
  {
   "cell_type": "code",
   "execution_count": 11,
   "source": [
    "def fibo_1(n):\r\n",
    "      '''\r\n",
    "      FIBO-REC (n)\r\n",
    "      se n ≤ 1\r\n",
    "      então devolva n\r\n",
    "      senão a ← FIBO-REC (n − 1)\r\n",
    "            b ← FIBO-REC (n − 2)\r\n",
    "            devolva a + b\r\n",
    "      '''\r\n",
    "      if n == 0:\r\n",
    "            return 1\r\n",
    "\r\n",
    "      if n<=1:\r\n",
    "            return n\r\n",
    "      else:\r\n",
    "            a = fibo_1(n - 1)\r\n",
    "            b = fibo_1(n - 2)\r\n",
    "            return a + b"
   ],
   "outputs": [],
   "metadata": {}
  },
  {
   "cell_type": "code",
   "execution_count": 12,
   "source": [
    "for i in [4, 8, 16, 32]:\r\n",
    "    result = fibo_1(i)\r\n",
    "    print(f'fibo for {i}: {result}')"
   ],
   "outputs": [
    {
     "output_type": "stream",
     "name": "stdout",
     "text": [
      "fibo for 4: 5\n",
      "fibo for 8: 34\n",
      "fibo for 16: 1597\n",
      "fibo for 32: 3524578\n"
     ]
    }
   ],
   "metadata": {}
  },
  {
   "cell_type": "code",
   "execution_count": 62,
   "source": [
    "def fibo_2(n):\r\n",
    "    '''\r\n",
    "    FIBO (n)\r\n",
    "            f [0] ← 0 \r\n",
    "        f [1] ← 1\r\n",
    "        para i ← 2 até n faça\r\n",
    "                f[i] ← f[i-1]+f[i-2]\r\n",
    "        devolva f [n]\r\n",
    "    '''\r\n",
    "    results = list()\r\n",
    "    results.append(0)\r\n",
    "    results.append(1)\r\n",
    "    for i in range(2, n+2, 1):\r\n",
    "        results.append(results[i-1] + results[i-2])\r\n",
    "\r\n",
    "    return results[-1]"
   ],
   "outputs": [],
   "metadata": {}
  },
  {
   "cell_type": "code",
   "execution_count": 63,
   "source": [
    "for i in [4, 8, 16, 32]:\r\n",
    "    result = fibo_2(i)\r\n",
    "    print(f'fibo_2 for {i}: {result}')"
   ],
   "outputs": [
    {
     "output_type": "stream",
     "name": "stdout",
     "text": [
      "fibo_2 for 4: 5\n",
      "fibo_2 for 8: 34\n",
      "fibo_2 for 16: 1597\n",
      "fibo_2 for 32: 3524578\n"
     ]
    }
   ],
   "metadata": {}
  },
  {
   "cell_type": "code",
   "execution_count": null,
   "source": [],
   "outputs": [],
   "metadata": {}
  }
 ],
 "metadata": {
  "orig_nbformat": 4,
  "language_info": {
   "name": "python",
   "version": "3.8.11",
   "mimetype": "text/x-python",
   "codemirror_mode": {
    "name": "ipython",
    "version": 3
   },
   "pygments_lexer": "ipython3",
   "nbconvert_exporter": "python",
   "file_extension": ".py"
  },
  "kernelspec": {
   "name": "python3",
   "display_name": "Python 3.8.11 64-bit"
  },
  "interpreter": {
   "hash": "b3ba2566441a7c06988d0923437866b63cedc61552a5af99d1f4fb67d367b25f"
  }
 },
 "nbformat": 4,
 "nbformat_minor": 2
}